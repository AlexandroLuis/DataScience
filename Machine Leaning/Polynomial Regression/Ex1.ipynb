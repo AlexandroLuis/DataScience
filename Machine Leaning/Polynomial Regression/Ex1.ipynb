{
  "nbformat": 4,
  "nbformat_minor": 0,
  "metadata": {
    "colab": {
      "name": "Untitled20.ipynb",
      "provenance": []
    },
    "kernelspec": {
      "name": "python3",
      "display_name": "Python 3"
    },
    "language_info": {
      "name": "python"
    }
  },
  "cells": [
    {
      "cell_type": "markdown",
      "source": [
        "#import"
      ],
      "metadata": {
        "id": "rLdd6PwteVVy"
      }
    },
    {
      "cell_type": "code",
      "source": [
        "import numpy as np\n",
        "\n",
        "from sklearn.metrics import mean_squared_error, r2_score\n",
        "from sklearn.linear_model import LinearRegression\n",
        "from sklearn.preprocessing import PolynomialFeatures\n",
        "from sklearn.pipeline import make_pipeline"
      ],
      "metadata": {
        "id": "vixZiQOheWIz"
      },
      "execution_count": 21,
      "outputs": []
    },
    {
      "cell_type": "markdown",
      "source": [
        "#code"
      ],
      "metadata": {
        "id": "dPAc60RNeZYy"
      }
    },
    {
      "cell_type": "markdown",
      "source": [
        "##model"
      ],
      "metadata": {
        "id": "0ADu2uzseaIq"
      }
    },
    {
      "cell_type": "code",
      "source": [
        "class LinearModel:\n",
        "  def __init__(self, model):\n",
        "    self.model = model\n",
        "\n",
        "  def compute_metrics(self, x, y):\n",
        "    self.model.fit(x, y)\n",
        "    y_predicted = self.model.predict(x)\n",
        "\n",
        "    self.intercept_ = self.model.intercept_\n",
        "    self.coeffs_ = self.model.coeffs_\n",
        "    self.rmse_ = mean_squared_error(y, y_predicted)\n",
        "    self.r2_ = r2_score(y, y_predicted)\n",
        "\n",
        "    return self"
      ],
      "metadata": {
        "id": "dwvoTZgCeb6r"
      },
      "execution_count": 29,
      "outputs": []
    },
    {
      "cell_type": "markdown",
      "source": [
        "##dataset"
      ],
      "metadata": {
        "id": "D6ta_FkFerz7"
      }
    },
    {
      "cell_type": "code",
      "source": [
        "# generate dataset\n",
        "\n",
        "def generate_data_set():\n",
        "    np.random.seed(0)\n",
        "    x = 2 - 3 * np.random.normal(0, 1, 20)\n",
        "    y = x - 2 * (x ** 2) + 0.5 * (x ** 3) + np.random.normal(-3, 3, 20)\n",
        "\n",
        "    # transforming the data to include another axis\n",
        "    x = x[:, np.newaxis]\n",
        "    y = y[:, np.newaxis]\n",
        "    return x, y"
      ],
      "metadata": {
        "id": "JCXQbKeJessM"
      },
      "execution_count": 26,
      "outputs": []
    },
    {
      "cell_type": "markdown",
      "source": [
        "## train"
      ],
      "metadata": {
        "id": "Vz0gaigAe4qd"
      }
    },
    {
      "cell_type": "code",
      "source": [
        "x_train, y_train = generate_data_set()\n",
        "\n",
        "polynomial_features = PolynomialFeatures(degree=2, include_bias=False)\n",
        "x_poly_train = polynomial_features.fit_transform(x_train)\n",
        "\n",
        "model = make_pipeline(PolynomialFeatures(degree=2, include_bias=False), LinearRegression())\n",
        "polynomial_regression = LinearModel(model)\n",
        "polynomial_regression.compute_metrics(x_poly_train, y_train)"
      ],
      "metadata": {
        "id": "v7eCzeule6Dz"
      },
      "execution_count": null,
      "outputs": []
    },
    {
      "cell_type": "markdown",
      "source": [
        "#output"
      ],
      "metadata": {
        "id": "bsQ0KC74g7BH"
      }
    },
    {
      "cell_type": "code",
      "source": [
        "print('The RMSE of the polynomial regression model is {}'.format(polynomial_regression.rmse_))\n",
        "print('The R2 score of the polynomial regression model is {}'.format(polynomial_regression.r2_))"
      ],
      "metadata": {
        "id": "LENpsBRzg74V"
      },
      "execution_count": null,
      "outputs": []
    }
  ]
}
