{
  "nbformat": 4,
  "nbformat_minor": 0,
  "metadata": {
    "colab": {
      "name": "Untitled19.ipynb",
      "provenance": []
    },
    "kernelspec": {
      "name": "python3",
      "display_name": "Python 3"
    },
    "language_info": {
      "name": "python"
    }
  },
  "cells": [
    {
      "cell_type": "markdown",
      "source": [
        "#import"
      ],
      "metadata": {
        "id": "EZWiSv9eZcKN"
      }
    },
    {
      "cell_type": "code",
      "source": [
        "#!pip install --upgrade scikit-learn"
      ],
      "metadata": {
        "id": "Jo1xHmUsZu20"
      },
      "execution_count": 7,
      "outputs": []
    },
    {
      "cell_type": "code",
      "source": [
        "import numpy as np\n",
        "import matplotlib.pyplot as plt\n",
        "import pandas as pd\n",
        "\n",
        "\n",
        "from scipy.optimize import fmin_tnc\n",
        "from sklearn.linear_model import LogisticRegression\n",
        "from sklearn.metrics import accuracy_score"
      ],
      "metadata": {
        "id": "lv3Qa9QzZdLD"
      },
      "execution_count": 8,
      "outputs": []
    },
    {
      "cell_type": "markdown",
      "source": [
        "#code"
      ],
      "metadata": {
        "id": "WJPef0BRZegD"
      }
    },
    {
      "cell_type": "markdown",
      "source": [
        "##model"
      ],
      "metadata": {
        "id": "I-aTGAnTaTU1"
      }
    },
    {
      "cell_type": "code",
      "source": [
        "class LogisticRegressionUsingGD:\n",
        "\n",
        "    @staticmethod\n",
        "    def sigmoid(x):\n",
        "        # Activation function used to map any real value between 0 and 1\n",
        "        return 1 / (1 + np.exp(-x))\n",
        "\n",
        "    @staticmethod\n",
        "    def net_input(theta, x):\n",
        "        # Computes the weighted sum of inputs Similar to Linear Regression\n",
        "        return np.dot(x, theta)\n",
        "\n",
        "    def probability(self, theta, x):\n",
        "        # Calculates the probability that an instance belongs to a particular class\n",
        "        return self.sigmoid(self.net_input(theta, x))\n",
        "\n",
        "    def cost_function(self, theta, x, y):\n",
        "        # Computes the cost function for all the training samples\n",
        "        m = x.shape[0]\n",
        "        total_cost = -(1 / m) * np.sum(\n",
        "            y * np.log(self.probability(theta, x)) + (1 - y) * np.log(\n",
        "                1 - self.probability(theta, x)))\n",
        "        return total_cost\n",
        "\n",
        "    def gradient(self, theta, x, y):\n",
        "        # Computes the gradient of the cost function at the point theta\n",
        "        m = x.shape[0]\n",
        "        return (1 / m) * np.dot(x.T, self.sigmoid(self.net_input(theta, x)) - y)\n",
        "\n",
        "    def fit(self, x, y, theta):\n",
        "        opt_weights = fmin_tnc(func=self.cost_function, x0=theta, fprime=self.gradient,\n",
        "                               args=(x, y.flatten()))\n",
        "        self.w_ = opt_weights[0]\n",
        "        return self\n",
        "\n",
        "    def predict(self, x):\n",
        "        theta = self.w_[:, np.newaxis]\n",
        "        return self.probability(theta, x)\n",
        "\n",
        "    def accuracy(self, x, actual_classes, probab_threshold=0.5):\n",
        "        predicted_classes = (self.predict(x) >= probab_threshold).astype(int)\n",
        "        predicted_classes = predicted_classes.flatten()\n",
        "        accuracy = np.mean(predicted_classes == actual_classes)\n",
        "        return accuracy * 100"
      ],
      "metadata": {
        "id": "fa65gsHdaUKG"
      },
      "execution_count": 10,
      "outputs": []
    },
    {
      "cell_type": "markdown",
      "source": [
        "##dataset"
      ],
      "metadata": {
        "id": "6v0R_Ul4ahA-"
      }
    },
    {
      "cell_type": "code",
      "source": [
        "def load_data(path, header):\n",
        "    marks_df = pd.read_csv(path, header=header)\n",
        "    return marks_df"
      ],
      "metadata": {
        "id": "JX1LdRUwah-H"
      },
      "execution_count": 11,
      "outputs": []
    },
    {
      "cell_type": "code",
      "source": [
        "data = \"https://raw.githubusercontent.com/AlexandroLuis/DataScience/main/Machine%20Leaning/Linear%20Regression/Logistic%20Regression/data.txt\"\n",
        "data = load_data(data, None)\n",
        "\n",
        "X = data.iloc[:, :-1]\n",
        "y = data.iloc[:, -1]\n",
        "\n",
        "admitted = data.loc[y == 1]\n",
        "not_admitted = data.loc[y == 0]\n",
        "\n",
        "plt.scatter(admitted.iloc[:, 0], admitted.iloc[:, 1], s=10, label='Admitted')\n",
        "plt.scatter(not_admitted.iloc[:, 0], not_admitted.iloc[:, 1], s=10,label='Not Admitted')\n",
        "\n",
        "X = np.c_[np.ones((X.shape[0], 1)), X]\n",
        "y = y[:, np.newaxis]\n",
        "theta = np.zeros((X.shape[1], 1))\n",
        "\n",
        "model = LogisticRegressionUsingGD()\n",
        "model.fit(X, y, theta)\n",
        "accuracy = model.accuracy(X, y.flatten())\n",
        "parameters = model.w_"
      ],
      "metadata": {
        "colab": {
          "base_uri": "https://localhost:8080/",
          "height": 320
        },
        "id": "aYdmdazPauy_",
        "outputId": "02dc2a76-8937-48f0-af5e-0357899ec6fd"
      },
      "execution_count": 21,
      "outputs": [
        {
          "output_type": "stream",
          "name": "stderr",
          "text": [
            "/usr/local/lib/python3.7/dist-packages/ipykernel_launcher.py:14: FutureWarning: Support for multi-dimensional indexing (e.g. `obj[:, None]`) is deprecated and will be removed in a future version.  Convert to a numpy array before indexing instead.\n",
            "  \n"
          ]
        },
        {
          "output_type": "display_data",
          "data": {
            "text/plain": [
              "<Figure size 432x288 with 1 Axes>"
            ],
            "image/png": "[encoded data removed]"
          },
          "metadata": {
            "needs_background": "light"
          }
        }
      ]
    },
    {
      "cell_type": "markdown",
      "source": [
        "##output"
      ],
      "metadata": {
        "id": "otDSEPCGbMP2"
      }
    },
    {
      "cell_type": "code",
      "source": [
        "print(\"The accuracy of the model is {}\".format(accuracy))\n",
        "print(\"The model parameters using Gradient descent\")\n",
        "print(\"\\n\")\n",
        "print(parameters)"
      ],
      "metadata": {
        "colab": {
          "base_uri": "https://localhost:8080/"
        },
        "id": "735ktMO8bONu",
        "outputId": "311564e2-a85c-477e-8676-139d1907c3fb"
      },
      "execution_count": 19,
      "outputs": [
        {
          "output_type": "stream",
          "name": "stdout",
          "text": [
            "The accuracy of the model is 89.0\n",
            "The model parameters using Gradient descent\n",
            "\n",
            "\n",
            "[-25.16131857   0.20623159   0.20147149]\n"
          ]
        }
      ]
    },
    {
      "cell_type": "code",
      "source": [
        "x_values = [np.min(X[:, 1] - 2), np.max(X[:, 2] + 2)]\n",
        "y_values = - (parameters[0] + np.dot(parameters[1], x_values)) / parameters[2]\n",
        "\n",
        "plt.plot(x_values, y_values, label='Decision Boundary')\n",
        "plt.xlabel('Marks in 1st Exam')\n",
        "plt.ylabel('Marks in 2nd Exam')\n",
        "plt.legend()\n",
        "\n",
        "plt.show()"
      ],
      "metadata": {
        "colab": {
          "base_uri": "https://localhost:8080/",
          "height": 279
        },
        "id": "91r6zNVxbP63",
        "outputId": "9a6f303d-fe4b-4122-ec96-04ca77d54217"
      },
      "execution_count": 20,
      "outputs": [
        {
          "output_type": "display_data",
          "data": {
            "text/plain": [
              "<Figure size 432x288 with 1 Axes>"
            ],
            "image/png": "[encoded data removed]"
          },
          "metadata": {
            "needs_background": "light"
          }
        }
      ]
    },
    {
      "cell_type": "markdown",
      "source": [
        "##scikit-learn"
      ],
      "metadata": {
        "id": "wcMft18YbUX2"
      }
    },
    {
      "cell_type": "code",
      "source": [
        "model = LogisticRegression()\n",
        "model.fit(X, y)\n",
        "parameters = model.coef_\n",
        "predicted_classes = model.predict(X)\n",
        "accuracy = accuracy_score(y.flatten(),predicted_classes)\n",
        "\n",
        "print('The accuracy score using scikit-learn is {}'.format(accuracy))\n",
        "print(\"The model parameters using scikit learn\")\n",
        "print(parameters)"
      ],
      "metadata": {
        "colab": {
          "base_uri": "https://localhost:8080/"
        },
        "id": "25zfDGfHbY0w",
        "outputId": "be75f8a5-3840-4d9b-92ec-61205cd657ce"
      },
      "execution_count": 17,
      "outputs": [
        {
          "output_type": "stream",
          "name": "stdout",
          "text": [
            "The accuracy score using scikit-learn is 0.89\n",
            "The model parameters using scikit learn\n",
            "[[-4.19885866e-08  2.05354461e-01  2.00583554e-01]]\n"
          ]
        },
        {
          "output_type": "stream",
          "name": "stderr",
          "text": [
            "/usr/local/lib/python3.7/dist-packages/sklearn/utils/validation.py:993: DataConversionWarning: A column-vector y was passed when a 1d array was expected. Please change the shape of y to (n_samples, ), for example using ravel().\n",
            "  y = column_or_1d(y, warn=True)\n"
          ]
        }
      ]
    }
  ]
}
