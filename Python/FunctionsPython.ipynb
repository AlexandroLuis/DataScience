{
  "nbformat": 4,
  "nbformat_minor": 0,
  "metadata": {
    "colab": {
      "name": "FunctionsPython.ipynb",
      "provenance": []
    },
    "kernelspec": {
      "name": "python3",
      "display_name": "Python 3"
    },
    "language_info": {
      "name": "python"
    }
  },
  "cells": [
    {
      "cell_type": "markdown",
      "source": [
        "# **Functions**"
      ],
      "metadata": {
        "id": "IXJxz2n-04yb"
      }
    },
    {
      "cell_type": "markdown",
      "source": [
        "## **Lambda Functions**"
      ],
      "metadata": {
        "id": "xnPHj_Uq1Bcr"
      }
    },
    {
      "cell_type": "code",
      "source": [
        "strings = ['hello', 'there,', 'hey', 'f', 'fo', 'b', 'ba']\n",
        "strings.sort(key=lambda x: len(list(x)))\n",
        "strings"
      ],
      "metadata": {
        "colab": {
          "base_uri": "https://localhost:8080/"
        },
        "id": "SPZtch901GHp",
        "outputId": "20700ced-8f9a-49e8-d7a8-8819df8e957c"
      },
      "execution_count": 2,
      "outputs": [
        {
          "output_type": "execute_result",
          "data": {
            "text/plain": [
              "['f', 'b', 'fo', 'ba', 'hey', 'hello', 'there,']"
            ]
          },
          "metadata": {},
          "execution_count": 2
        }
      ]
    },
    {
      "cell_type": "markdown",
      "source": [
        "## **Closures**"
      ],
      "metadata": {
        "id": "Q_i4GRIC1Mpk"
      }
    },
    {
      "cell_type": "code",
      "source": [
        "# Closures are dynamically-genearated functions returned by another function.\n",
        "\n",
        "def my_decorator(fun):\n",
        "    def myfun(*params, **kwparams):\n",
        "        do_something()\n",
        "        fun(*params, **kwparams)\n",
        "    return myfun\n"
      ],
      "metadata": {
        "id": "_MxgAs_F1N_6"
      },
      "execution_count": 3,
      "outputs": []
    },
    {
      "cell_type": "code",
      "source": [
        "def make_closure(x):\n",
        "    def closure():\n",
        "        print('Secret value is: %s' % x)\n",
        "    return closure\n",
        "\n",
        "closure = make_closure(7)\n",
        "closure()\n"
      ],
      "metadata": {
        "colab": {
          "base_uri": "https://localhost:8080/"
        },
        "id": "kauFRSZR1c-K",
        "outputId": "0d44fccc-a037-4a50-fe75-be13ddddb953"
      },
      "execution_count": 4,
      "outputs": [
        {
          "output_type": "stream",
          "name": "stdout",
          "text": [
            "Secret value is: 7\n"
          ]
        }
      ]
    },
    {
      "cell_type": "code",
      "source": [
        "def make_watcher():\n",
        "    dict_seen = {}\n",
        "    \n",
        "    def watcher(x):\n",
        "        if x in dict_seen:\n",
        "            return True\n",
        "        else:\n",
        "            dict_seen[x] = True\n",
        "            return False\n",
        "        \n",
        "    return watcher\n",
        "\n",
        "watcher = make_watcher()\n",
        "seq = [1, 1, 2, 3, 5, 8, 13, 2, 5, 13]\n",
        "[watcher(x) for x in seq]"
      ],
      "metadata": {
        "colab": {
          "base_uri": "https://localhost:8080/"
        },
        "id": "82QwLE2L1Zm9",
        "outputId": "8723fa68-bd7d-4817-fd0f-dc3441540526"
      },
      "execution_count": 5,
      "outputs": [
        {
          "output_type": "execute_result",
          "data": {
            "text/plain": [
              "[False, True, False, False, False, False, False, True, True, True]"
            ]
          },
          "metadata": {},
          "execution_count": 5
        }
      ]
    },
    {
      "cell_type": "markdown",
      "source": [
        "## **Currying**"
      ],
      "metadata": {
        "id": "LyjhqNBC1lPb"
      }
    },
    {
      "cell_type": "code",
      "source": [
        "# Currying means to derive new functions from existing ones by partial argument appilcation\n",
        "\n",
        "def add_numbers(x, y):\n",
        "    return x + y\n",
        "\n",
        "add_seven = lambda y: add_numbers(7, y)\n",
        "add_seven(3)"
      ],
      "metadata": {
        "colab": {
          "base_uri": "https://localhost:8080/"
        },
        "id": "8maXjZVZ1mYa",
        "outputId": "e522b904-b678-4b88-b3a2-11bf32d1af23"
      },
      "execution_count": 6,
      "outputs": [
        {
          "output_type": "execute_result",
          "data": {
            "text/plain": [
              "10"
            ]
          },
          "metadata": {},
          "execution_count": 6
        }
      ]
    },
    {
      "cell_type": "code",
      "source": [
        "from functools import partial\n",
        "\n",
        "add_five = partial(add_numbers, 5)\n",
        "add_five(2)"
      ],
      "metadata": {
        "colab": {
          "base_uri": "https://localhost:8080/"
        },
        "id": "KLmHFzLg1qZ3",
        "outputId": "073c5e47-be3b-42f2-8b56-f480f2c7c194"
      },
      "execution_count": 7,
      "outputs": [
        {
          "output_type": "execute_result",
          "data": {
            "text/plain": [
              "7"
            ]
          },
          "metadata": {},
          "execution_count": 7
        }
      ]
    },
    {
      "cell_type": "markdown",
      "source": [
        "## **Generators**"
      ],
      "metadata": {
        "id": "ZsFTqZjC1vo6"
      }
    },
    {
      "cell_type": "code",
      "source": [
        "# A generator is a simple way to construct a new iterable object\n",
        "\n",
        "def squares(n=5):\n",
        "    for x in range(1, n + 1):\n",
        "        yield x ** 2\n",
        "\n",
        "# No code is executed\n",
        "gen = squares()\n",
        "\n",
        "# Generator returns values lazily\n",
        "for x in squares():\n",
        "    print (x)"
      ],
      "metadata": {
        "colab": {
          "base_uri": "https://localhost:8080/"
        },
        "id": "8r_ZbTEq1xN7",
        "outputId": "a2ec0d4a-6ee3-4b55-a133-c621306bab0e"
      },
      "execution_count": 10,
      "outputs": [
        {
          "output_type": "stream",
          "name": "stdout",
          "text": [
            "1\n",
            "4\n",
            "9\n",
            "16\n",
            "25\n"
          ]
        }
      ]
    },
    {
      "cell_type": "markdown",
      "source": [
        "## **Generator Expressions**"
      ],
      "metadata": {
        "id": "7Yz8PPNB2Ggr"
      }
    },
    {
      "cell_type": "code",
      "source": [
        "# A generator expression is analogous to a comprehension\n",
        "\n",
        "gen = (x ** 2 for x in range(1, 6))\n",
        "for x in gen:\n",
        "    print (x)"
      ],
      "metadata": {
        "colab": {
          "base_uri": "https://localhost:8080/"
        },
        "id": "Mm12wDrO2IXL",
        "outputId": "81f4a48d-75e2-4c8d-c2d3-c7cbb0ae9542"
      },
      "execution_count": 12,
      "outputs": [
        {
          "output_type": "stream",
          "name": "stdout",
          "text": [
            "1\n",
            "4\n",
            "9\n",
            "16\n",
            "25\n"
          ]
        }
      ]
    },
    {
      "cell_type": "markdown",
      "source": [
        "## **Itertools**"
      ],
      "metadata": {
        "id": "PjVg8aKB2Q6j"
      }
    },
    {
      "cell_type": "code",
      "source": [
        "# he library itertools has a collection of generators useful for data analysis\n",
        "\n",
        "import itertools\n",
        "\n",
        "first_letter = lambda x: x[0]\n",
        "strings = ['foo', 'bar', 'baz']\n",
        "for letter, gen_names in itertools.groupby(strings, first_letter):\n",
        "    print (letter, list(gen_names))"
      ],
      "metadata": {
        "colab": {
          "base_uri": "https://localhost:8080/"
        },
        "id": "PTfCy-Yd2VDy",
        "outputId": "fec94800-9fcb-4b64-9147-86599f243f48"
      },
      "execution_count": 14,
      "outputs": [
        {
          "output_type": "stream",
          "name": "stdout",
          "text": [
            "f ['foo']\n",
            "b ['bar', 'baz']\n"
          ]
        }
      ]
    }
  ]
}