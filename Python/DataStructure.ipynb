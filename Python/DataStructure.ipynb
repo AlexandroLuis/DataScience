{
  "nbformat": 4,
  "nbformat_minor": 0,
  "metadata": {
    "colab": {
      "name": "Untitled15.ipynb",
      "provenance": [],
      "collapsed_sections": [
        "h5u8Ptu-YFCQ",
        "qHFbo9-vYbx9",
        "LMy6S9sGbBxF",
        "C6ddgcKgdZK9"
      ]
    },
    "kernelspec": {
      "name": "python3",
      "display_name": "Python 3"
    },
    "language_info": {
      "name": "python"
    }
  },
  "cells": [
    {
      "cell_type": "markdown",
      "source": [
        "#**Python Data Structures**"
      ],
      "metadata": {
        "id": "h5u8Ptu-YFCQ"
      }
    },
    {
      "cell_type": "markdown",
      "source": [
        "## **Tuple**"
      ],
      "metadata": {
        "id": "qHFbo9-vYbx9"
      }
    },
    {
      "cell_type": "code",
      "source": [
        "# A tuple is a one dimensional, fixed-length, immutable sequence.\n",
        "\n",
        "tup = (0, 1, 3, 6, 9)\n",
        "tup"
      ],
      "metadata": {
        "colab": {
          "base_uri": "https://localhost:8080/"
        },
        "id": "0XlCFm4oYL_2",
        "outputId": "1cb097a9-2870-4636-9fd2-1f98e15b1bb1"
      },
      "execution_count": 1,
      "outputs": [
        {
          "output_type": "execute_result",
          "data": {
            "text/plain": [
              "(0, 1, 3, 6, 9)"
            ]
          },
          "metadata": {},
          "execution_count": 1
        }
      ]
    },
    {
      "cell_type": "code",
      "source": [
        "# Convert a 'list' to a 'tuple'\n",
        "\n",
        "list1 = [1, 2, 3, 5, 8, 9]\n",
        "\n",
        "print(list1)\n",
        "type(tuple(list1))"
      ],
      "metadata": {
        "colab": {
          "base_uri": "https://localhost:8080/"
        },
        "id": "WuqGXBeHZFtu",
        "outputId": "9f318ff3-1964-4ce5-ff5e-90dce6b40ffc"
      },
      "execution_count": 2,
      "outputs": [
        {
          "output_type": "stream",
          "name": "stdout",
          "text": [
            "[1, 2, 3, 5, 8, 9]\n"
          ]
        },
        {
          "output_type": "execute_result",
          "data": {
            "text/plain": [
              "tuple"
            ]
          },
          "metadata": {},
          "execution_count": 2
        }
      ]
    },
    {
      "cell_type": "code",
      "source": [
        "# Nested Tuple\n",
        "\n",
        "nested_tup = ([1, 2, 3], (4, 5))\n",
        "nested_tup"
      ],
      "metadata": {
        "colab": {
          "base_uri": "https://localhost:8080/"
        },
        "id": "7zAJAGDdZe89",
        "outputId": "17bf07c2-62d1-4566-cc0c-2d746035d873"
      },
      "execution_count": 3,
      "outputs": [
        {
          "output_type": "execute_result",
          "data": {
            "text/plain": [
              "([1, 2, 3], (4, 5))"
            ]
          },
          "metadata": {},
          "execution_count": 3
        }
      ]
    },
    {
      "cell_type": "code",
      "source": [
        "# Access a tuple's elements by index O(1)\n",
        "\n",
        "nested_tup[0]"
      ],
      "metadata": {
        "colab": {
          "base_uri": "https://localhost:8080/"
        },
        "id": "CdDZ5Q6SZsT9",
        "outputId": "c2957b98-621a-4b4e-f55e-0284b35dca53"
      },
      "execution_count": 4,
      "outputs": [
        {
          "output_type": "execute_result",
          "data": {
            "text/plain": [
              "[1, 2, 3]"
            ]
          },
          "metadata": {},
          "execution_count": 4
        }
      ]
    },
    {
      "cell_type": "code",
      "source": [
        "# Modify a tuple's contents\n",
        "\n",
        "nested_tup[0].append(\"x\")\n",
        "nested_tup[0].append(4)\n",
        "nested_tup[0]"
      ],
      "metadata": {
        "colab": {
          "base_uri": "https://localhost:8080/"
        },
        "id": "cO0v9xk0Z0u8",
        "outputId": "3f049513-18d7-4623-94b2-81e2a5d63cea"
      },
      "execution_count": 5,
      "outputs": [
        {
          "output_type": "execute_result",
          "data": {
            "text/plain": [
              "[1, 2, 3, 'x', 4]"
            ]
          },
          "metadata": {},
          "execution_count": 5
        }
      ]
    },
    {
      "cell_type": "code",
      "source": [
        "# Concatenate tuples by creating a new tuple and copying objects\n",
        "\n",
        "(1, 3, 2) + (4, 5, 6)"
      ],
      "metadata": {
        "colab": {
          "base_uri": "https://localhost:8080/"
        },
        "id": "ZbSc7cmgaFQl",
        "outputId": "a5448569-351c-4a25-9065-156edc8adb08"
      },
      "execution_count": 6,
      "outputs": [
        {
          "output_type": "execute_result",
          "data": {
            "text/plain": [
              "(1, 3, 2, 4, 5, 6)"
            ]
          },
          "metadata": {},
          "execution_count": 6
        }
      ]
    },
    {
      "cell_type": "code",
      "source": [
        "#Multiply tuples to copy references to objects\n",
        "\n",
        "('hey', 'ho') * 2"
      ],
      "metadata": {
        "colab": {
          "base_uri": "https://localhost:8080/"
        },
        "id": "Bg8fP6BhaPu8",
        "outputId": "83c45cb4-ed25-4862-9005-17f80fc981e7"
      },
      "execution_count": 7,
      "outputs": [
        {
          "output_type": "execute_result",
          "data": {
            "text/plain": [
              "('hey', 'ho', 'hey', 'ho')"
            ]
          },
          "metadata": {},
          "execution_count": 7
        }
      ]
    },
    {
      "cell_type": "code",
      "source": [
        "# Unpack tuples\n",
        "a, b = nested_tup\n",
        "a, b"
      ],
      "metadata": {
        "colab": {
          "base_uri": "https://localhost:8080/"
        },
        "id": "R7ol7O-1aXNN",
        "outputId": "4ca66e74-d8a7-4978-eb66-8c80697b1194"
      },
      "execution_count": 8,
      "outputs": [
        {
          "output_type": "execute_result",
          "data": {
            "text/plain": [
              "([1, 2, 3, 'x', 4], (4, 5))"
            ]
          },
          "metadata": {},
          "execution_count": 8
        }
      ]
    },
    {
      "cell_type": "code",
      "source": [
        "# Unpack nested tuples\n",
        "\n",
        "(a, b, c, d, e), (e, f) = nested_tup\n",
        "a, b, c, d, e, f"
      ],
      "metadata": {
        "colab": {
          "base_uri": "https://localhost:8080/"
        },
        "id": "vBt0BdC2aY_M",
        "outputId": "59c0c49c-67c4-4c28-92f4-00facda71b74"
      },
      "execution_count": 9,
      "outputs": [
        {
          "output_type": "execute_result",
          "data": {
            "text/plain": [
              "(1, 2, 3, 'x', 4, 5)"
            ]
          },
          "metadata": {},
          "execution_count": 9
        }
      ]
    },
    {
      "cell_type": "code",
      "source": [
        "# Loop over tuples \n",
        "\n",
        "seq = [( 1, 2, 3), (4, 5, 6), (7, 8, 9)] \n",
        "for a, b, c in seq: \n",
        "    print(a, b, c)"
      ],
      "metadata": {
        "colab": {
          "base_uri": "https://localhost:8080/"
        },
        "id": "9CrhCjpxavwv",
        "outputId": "69820926-2e56-40cf-a994-9f8b047ca729"
      },
      "execution_count": 10,
      "outputs": [
        {
          "output_type": "stream",
          "name": "stdout",
          "text": [
            "1 2 3\n",
            "4 5 6\n",
            "7 8 9\n"
          ]
        }
      ]
    },
    {
      "cell_type": "markdown",
      "source": [
        "## **List**"
      ],
      "metadata": {
        "id": "LMy6S9sGbBxF"
      }
    },
    {
      "cell_type": "code",
      "source": [
        "# A list is a one dimensional, variable-length, mutable sequence.\n",
        "\n",
        "list1 = [1, 2, 3]\n",
        "list1"
      ],
      "metadata": {
        "colab": {
          "base_uri": "https://localhost:8080/"
        },
        "id": "ECYtUMPnbElc",
        "outputId": "96d62885-11cd-420a-d7b3-8055a6ee2231"
      },
      "execution_count": 11,
      "outputs": [
        {
          "output_type": "execute_result",
          "data": {
            "text/plain": [
              "[1, 2, 3]"
            ]
          },
          "metadata": {},
          "execution_count": 11
        }
      ]
    },
    {
      "cell_type": "code",
      "source": [
        "# Convert a tuple to a list\n",
        "\n",
        "tup = (0, 1, 3, 6, 9)\n",
        "type(tup)\n",
        "'''\n",
        "type(list = list(tup))'''"
      ],
      "metadata": {
        "colab": {
          "base_uri": "https://localhost:8080/",
          "height": 35
        },
        "id": "NbtK23YnbUyl",
        "outputId": "1143caf1-e710-436a-f0ea-962ed20e5c6a"
      },
      "execution_count": 12,
      "outputs": [
        {
          "output_type": "execute_result",
          "data": {
            "text/plain": [
              "'\\ntype(list = list(tup))'"
            ],
            "application/vnd.google.colaboratory.intrinsic+json": {
              "type": "string"
            }
          },
          "metadata": {},
          "execution_count": 12
        }
      ]
    },
    {
      "cell_type": "code",
      "source": [
        "# Nested List\n",
        "\n",
        "nested_list = [(1, 2, 3), [4, 5]]\n",
        "nested_list"
      ],
      "metadata": {
        "colab": {
          "base_uri": "https://localhost:8080/"
        },
        "id": "ZPOg4S6ZcFKW",
        "outputId": "1b5addad-93f3-4472-c23d-2dce013eead0"
      },
      "execution_count": 13,
      "outputs": [
        {
          "output_type": "execute_result",
          "data": {
            "text/plain": [
              "[(1, 2, 3), [4, 5]]"
            ]
          },
          "metadata": {},
          "execution_count": 13
        }
      ]
    },
    {
      "cell_type": "code",
      "source": [
        "#Access a list's elements by index O(1)\n",
        "\n",
        "nested_list[0]"
      ],
      "metadata": {
        "colab": {
          "base_uri": "https://localhost:8080/"
        },
        "id": "f0BIq98jcKvu",
        "outputId": "680d62d5-a5ac-4b3c-bfc9-189627d94cc0"
      },
      "execution_count": 14,
      "outputs": [
        {
          "output_type": "execute_result",
          "data": {
            "text/plain": [
              "(1, 2, 3)"
            ]
          },
          "metadata": {},
          "execution_count": 14
        }
      ]
    },
    {
      "cell_type": "code",
      "source": [
        "#Append an element to a list O(1)\n",
        "\n",
        "nested_list.append(6)\n",
        "nested_list"
      ],
      "metadata": {
        "colab": {
          "base_uri": "https://localhost:8080/"
        },
        "id": "k7-PYSs4cTf8",
        "outputId": "1a7011a9-4ea9-452e-ef24-8f641f683b05"
      },
      "execution_count": 15,
      "outputs": [
        {
          "output_type": "execute_result",
          "data": {
            "text/plain": [
              "[(1, 2, 3), [4, 5], 6]"
            ]
          },
          "metadata": {},
          "execution_count": 15
        }
      ]
    },
    {
      "cell_type": "code",
      "source": [
        "# Insert an element to a list at a specific index O(n)\n",
        "\n",
        "nested_list.insert(0, 'start')\n",
        "nested_list"
      ],
      "metadata": {
        "colab": {
          "base_uri": "https://localhost:8080/"
        },
        "id": "KAmrJcAScWLE",
        "outputId": "c4fd5710-6ce5-40a4-f37f-dfa0ad33edf4"
      },
      "execution_count": 16,
      "outputs": [
        {
          "output_type": "execute_result",
          "data": {
            "text/plain": [
              "['start', (1, 2, 3), [4, 5], 6]"
            ]
          },
          "metadata": {},
          "execution_count": 16
        }
      ]
    },
    {
      "cell_type": "code",
      "source": [
        "# Pop is expensive as it has to shift subsequent elements O(n). The operation is O(1) if pop is used for the last element\n",
        "\n",
        "nested_list.pop(0)\n",
        "nested_list"
      ],
      "metadata": {
        "colab": {
          "base_uri": "https://localhost:8080/"
        },
        "id": "qEbF-gggclSk",
        "outputId": "21492431-6ee9-425c-d11c-18d5fcb05140"
      },
      "execution_count": 17,
      "outputs": [
        {
          "output_type": "execute_result",
          "data": {
            "text/plain": [
              "[(1, 2, 3), [4, 5], 6]"
            ]
          },
          "metadata": {},
          "execution_count": 17
        }
      ]
    },
    {
      "cell_type": "code",
      "source": [
        "# Remove a value on the list O(n)\n",
        "\n",
        "nested_list.remove((1, 2, 3))\n",
        "nested_list"
      ],
      "metadata": {
        "colab": {
          "base_uri": "https://localhost:8080/"
        },
        "id": "SJs-HivactN8",
        "outputId": "0df5f8c0-78b8-4345-d599-38ad53f3ffb4"
      },
      "execution_count": 18,
      "outputs": [
        {
          "output_type": "execute_result",
          "data": {
            "text/plain": [
              "[[4, 5], 6]"
            ]
          },
          "metadata": {},
          "execution_count": 18
        }
      ]
    },
    {
      "cell_type": "code",
      "source": [
        "# Check if a list contains a value O(n)\n",
        "\n",
        "5 in nested_list"
      ],
      "metadata": {
        "colab": {
          "base_uri": "https://localhost:8080/"
        },
        "id": "vai_7KHic8Tm",
        "outputId": "a6f34d7e-4454-4a38-d477-e7106447a02b"
      },
      "execution_count": 19,
      "outputs": [
        {
          "output_type": "execute_result",
          "data": {
            "text/plain": [
              "False"
            ]
          },
          "metadata": {},
          "execution_count": 19
        }
      ]
    },
    {
      "cell_type": "code",
      "source": [
        "#Concatenate lists by creating a new list and copying objects\n",
        "\n",
        "[1, 3, 2] + [4, 5, 6]"
      ],
      "metadata": {
        "colab": {
          "base_uri": "https://localhost:8080/"
        },
        "id": "6QKZCizYdHVc",
        "outputId": "1a419d6e-5376-43c3-a45f-95c80c981a3f"
      },
      "execution_count": 20,
      "outputs": [
        {
          "output_type": "execute_result",
          "data": {
            "text/plain": [
              "[1, 3, 2, 4, 5, 6]"
            ]
          },
          "metadata": {},
          "execution_count": 20
        }
      ]
    },
    {
      "cell_type": "code",
      "source": [
        "# Extend a list by appending elements \n",
        "\n",
        "nested_list.extend([7, 8, 9])\n",
        "nested_list"
      ],
      "metadata": {
        "colab": {
          "base_uri": "https://localhost:8080/"
        },
        "id": "lB-iLTT-dOIL",
        "outputId": "d14ae997-d3c4-4450-acc0-18dc30a7acc3"
      },
      "execution_count": 21,
      "outputs": [
        {
          "output_type": "execute_result",
          "data": {
            "text/plain": [
              "[[4, 5], 6, 7, 8, 9]"
            ]
          },
          "metadata": {},
          "execution_count": 21
        }
      ]
    },
    {
      "cell_type": "markdown",
      "source": [
        "## **Dict**"
      ],
      "metadata": {
        "id": "C6ddgcKgdZK9"
      }
    },
    {
      "cell_type": "code",
      "source": [
        "# A dict is also known as a hash map or associative array. A dict is a mutable collection of key-value pairs\n",
        "\n",
        "dict_1 = { 'a' : 'foo', 'b' : [0, 1, 2, 3] }\n",
        "dict_1"
      ],
      "metadata": {
        "colab": {
          "base_uri": "https://localhost:8080/"
        },
        "id": "RKR5uDXKdav7",
        "outputId": "7e4067c8-4f66-4449-ac4b-052e159e98ce"
      },
      "execution_count": 22,
      "outputs": [
        {
          "output_type": "execute_result",
          "data": {
            "text/plain": [
              "{'a': 'foo', 'b': [0, 1, 2, 3]}"
            ]
          },
          "metadata": {},
          "execution_count": 22
        }
      ]
    },
    {
      "cell_type": "code",
      "source": [
        "# Access a dict's elements by index O(1)\n",
        "\n",
        "dict_1['b']"
      ],
      "metadata": {
        "colab": {
          "base_uri": "https://localhost:8080/"
        },
        "id": "mX-WT_-sdo3E",
        "outputId": "5df02784-f69c-48d4-f939-0e0c8179544e"
      },
      "execution_count": 23,
      "outputs": [
        {
          "output_type": "execute_result",
          "data": {
            "text/plain": [
              "[0, 1, 2, 3]"
            ]
          },
          "metadata": {},
          "execution_count": 23
        }
      ]
    },
    {
      "cell_type": "code",
      "source": [
        "# Insert or set a dict's elements by index O(1)\n",
        "\n",
        "dict_1[5] = 'bar'\n",
        "dict_1"
      ],
      "metadata": {
        "colab": {
          "base_uri": "https://localhost:8080/"
        },
        "id": "_zHKiSMHdsAW",
        "outputId": "f2637556-572c-47d3-ca85-56165960d762"
      },
      "execution_count": 24,
      "outputs": [
        {
          "output_type": "execute_result",
          "data": {
            "text/plain": [
              "{5: 'bar', 'a': 'foo', 'b': [0, 1, 2, 3]}"
            ]
          },
          "metadata": {},
          "execution_count": 24
        }
      ]
    },
    {
      "cell_type": "code",
      "source": [
        "# Check if a dict contains a key O(1)\n",
        "\n",
        "5 in dict_1"
      ],
      "metadata": {
        "colab": {
          "base_uri": "https://localhost:8080/"
        },
        "id": "PJKbMvuvdyKL",
        "outputId": "6b0836ec-9479-43f0-da34-82985f90ebec"
      },
      "execution_count": 25,
      "outputs": [
        {
          "output_type": "execute_result",
          "data": {
            "text/plain": [
              "True"
            ]
          },
          "metadata": {},
          "execution_count": 25
        }
      ]
    },
    {
      "cell_type": "code",
      "source": [
        "# Delete a value O(1)\n",
        "\n",
        "dict_2 = dict(dict_1)\n",
        "del dict_2[5]\n",
        "dict_2"
      ],
      "metadata": {
        "colab": {
          "base_uri": "https://localhost:8080/"
        },
        "id": "xHTt4CjOd4BE",
        "outputId": "38008bf0-b2b8-43d7-c123-cf6d9cd4c150"
      },
      "execution_count": 26,
      "outputs": [
        {
          "output_type": "execute_result",
          "data": {
            "text/plain": [
              "{'a': 'foo', 'b': [0, 1, 2, 3]}"
            ]
          },
          "metadata": {},
          "execution_count": 26
        }
      ]
    },
    {
      "cell_type": "code",
      "source": [
        "# Remove and return an element from a specified index O(1)\n",
        "\n",
        "value = dict_2.pop('b')\n",
        "print(value)\n",
        "print(dict_2)"
      ],
      "metadata": {
        "colab": {
          "base_uri": "https://localhost:8080/"
        },
        "id": "dT4pM6NheVLc",
        "outputId": "0849f6a6-aa90-4e7a-b4c3-294e1aadcbcc"
      },
      "execution_count": 27,
      "outputs": [
        {
          "output_type": "stream",
          "name": "stdout",
          "text": [
            "[0, 1, 2, 3]\n",
            "{'a': 'foo'}\n"
          ]
        }
      ]
    },
    {
      "cell_type": "code",
      "source": [
        "# Get or pop can be called with a default value if the key is not found\n",
        "\n",
        "value = dict_1.get('z', 0)\n",
        "value"
      ],
      "metadata": {
        "colab": {
          "base_uri": "https://localhost:8080/"
        },
        "id": "3KmrwsKEeelN",
        "outputId": "51c23d3a-40ab-48e4-bb8a-7b29b2a682bd"
      },
      "execution_count": 28,
      "outputs": [
        {
          "output_type": "execute_result",
          "data": {
            "text/plain": [
              "0"
            ]
          },
          "metadata": {},
          "execution_count": 28
        }
      ]
    },
    {
      "cell_type": "code",
      "source": [
        "# Return a default value if the key is not found\n",
        "\n",
        "print(dict_1.setdefault('z', None))"
      ],
      "metadata": {
        "colab": {
          "base_uri": "https://localhost:8080/"
        },
        "id": "VjJqHnmzejgT",
        "outputId": "cc88d219-c90f-4731-e0dc-5abea185bf8c"
      },
      "execution_count": 29,
      "outputs": [
        {
          "output_type": "stream",
          "name": "stdout",
          "text": [
            "None\n"
          ]
        }
      ]
    },
    {
      "cell_type": "code",
      "source": [
        "# Defaultdict lets you specify the default when the container is initialized\n",
        "\n",
        "from collections import defaultdict\n",
        "\n",
        "seq = ['foo', 'bar', 'baz']\n",
        "first_letter = defaultdict(list)\n",
        "for elem in seq:\n",
        "    first_letter[elem[0]].append(elem)\n",
        "first_letter"
      ],
      "metadata": {
        "id": "w7_bxPL2euA7"
      },
      "execution_count": null,
      "outputs": []
    },
    {
      "cell_type": "code",
      "source": [
        "# Hash a dict key\n",
        "\n",
        "print(hash('Hello'))\n",
        "print(hash((1, 2, (3, 4))))"
      ],
      "metadata": {
        "colab": {
          "base_uri": "https://localhost:8080/"
        },
        "id": "6BDrsY03fUr8",
        "outputId": "14ccb864-fd14-455f-d7ca-79199c585458"
      },
      "execution_count": 30,
      "outputs": [
        {
          "output_type": "stream",
          "name": "stdout",
          "text": [
            "4179728981343304272\n",
            "-2725224101759650258\n"
          ]
        }
      ]
    },
    {
      "cell_type": "code",
      "source": [
        "# Get the list of keys in no particular order\n",
        "\n",
        "dict_1.keys()"
      ],
      "metadata": {
        "colab": {
          "base_uri": "https://localhost:8080/"
        },
        "id": "2UplwCU_fm3s",
        "outputId": "7c451f11-82b5-49cd-9c2f-060e26fdabfd"
      },
      "execution_count": 31,
      "outputs": [
        {
          "output_type": "execute_result",
          "data": {
            "text/plain": [
              "dict_keys(['a', 'b', 5, 'z'])"
            ]
          },
          "metadata": {},
          "execution_count": 31
        }
      ]
    },
    {
      "cell_type": "code",
      "source": [
        "# Get the list of values in no particular order\n",
        "\n",
        "dict_1.values()"
      ],
      "metadata": {
        "colab": {
          "base_uri": "https://localhost:8080/"
        },
        "id": "zmc0bE4KfpVr",
        "outputId": "f59a04bc-54fc-4aef-830e-70fe99043bf6"
      },
      "execution_count": 32,
      "outputs": [
        {
          "output_type": "execute_result",
          "data": {
            "text/plain": [
              "dict_values(['foo', [0, 1, 2, 3], 'bar', None])"
            ]
          },
          "metadata": {},
          "execution_count": 32
        }
      ]
    },
    {
      "cell_type": "code",
      "source": [
        "# Iterate through a dictionary's keys and values\n",
        "\n",
        "for i, v in dict_1.items():\n",
        "    print (i, v)"
      ],
      "metadata": {
        "colab": {
          "base_uri": "https://localhost:8080/"
        },
        "id": "P65ClZUSfzFT",
        "outputId": "2c657991-2845-49c4-87c5-5b0235b46594"
      },
      "execution_count": 33,
      "outputs": [
        {
          "output_type": "stream",
          "name": "stdout",
          "text": [
            "a foo\n",
            "b [0, 1, 2, 3]\n",
            "5 bar\n",
            "z None\n"
          ]
        }
      ]
    },
    {
      "cell_type": "code",
      "source": [
        "# Merge one dict into another\n",
        "\n",
        "dict_1.update({'e' : 'elephant', 'f' : 'fish'})\n",
        "dict_1"
      ],
      "metadata": {
        "colab": {
          "base_uri": "https://localhost:8080/"
        },
        "id": "gA8xM9lGgAt0",
        "outputId": "6626dc2a-3519-4ae8-a14f-5bf1dc0edfef"
      },
      "execution_count": 34,
      "outputs": [
        {
          "output_type": "execute_result",
          "data": {
            "text/plain": [
              "{5: 'bar',\n",
              " 'a': 'foo',\n",
              " 'b': [0, 1, 2, 3],\n",
              " 'e': 'elephant',\n",
              " 'f': 'fish',\n",
              " 'z': None}"
            ]
          },
          "metadata": {},
          "execution_count": 34
        }
      ]
    },
    {
      "cell_type": "code",
      "source": [
        "# Pair up two sequences element-wise in a dict:\n",
        "\n",
        "mapping = dict(zip(range(7), reversed(range(7))))\n",
        "mapping"
      ],
      "metadata": {
        "colab": {
          "base_uri": "https://localhost:8080/"
        },
        "id": "vKsSx-zvgGJy",
        "outputId": "22d0392a-b6ca-4040-ba20-b95900d09937"
      },
      "execution_count": 35,
      "outputs": [
        {
          "output_type": "execute_result",
          "data": {
            "text/plain": [
              "{0: 6, 1: 5, 2: 4, 3: 3, 4: 2, 5: 1, 6: 0}"
            ]
          },
          "metadata": {},
          "execution_count": 35
        }
      ]
    },
    {
      "cell_type": "markdown",
      "source": [
        "## **Set**"
      ],
      "metadata": {
        "id": "3zmSi_K0gY7D"
      }
    },
    {
      "cell_type": "code",
      "source": [
        "# A set is an unordered sequence of unique elements.\n",
        "\n",
        "set_1 = set([0, 1, 2, 3, 4, 5])\n",
        "set_1"
      ],
      "metadata": {
        "colab": {
          "base_uri": "https://localhost:8080/"
        },
        "id": "KQ1aHH6ugbnT",
        "outputId": "babdd5de-a7c9-4683-e784-9996da9bfe4e"
      },
      "execution_count": 36,
      "outputs": [
        {
          "output_type": "execute_result",
          "data": {
            "text/plain": [
              "{0, 1, 2, 3, 4, 5}"
            ]
          },
          "metadata": {},
          "execution_count": 36
        }
      ]
    },
    {
      "cell_type": "code",
      "source": [
        "set_2 = {1, 2, 3, 5, 10, 6}\n",
        "set_2"
      ],
      "metadata": {
        "colab": {
          "base_uri": "https://localhost:8080/"
        },
        "id": "P-S2lfHqglAj",
        "outputId": "5635226d-8a8a-4de8-8cbd-85073a0c1e50"
      },
      "execution_count": 37,
      "outputs": [
        {
          "output_type": "execute_result",
          "data": {
            "text/plain": [
              "{1, 2, 3, 5, 6, 10}"
            ]
          },
          "metadata": {},
          "execution_count": 37
        }
      ]
    },
    {
      "cell_type": "code",
      "source": [
        "# Union O(len(set_1) + len(set_2))\n",
        "\n",
        "set_1 | set_2"
      ],
      "metadata": {
        "colab": {
          "base_uri": "https://localhost:8080/"
        },
        "id": "XpsOIhuggrfW",
        "outputId": "6ef7ba70-27aa-4b68-ccb7-e37e87d51a39"
      },
      "execution_count": 38,
      "outputs": [
        {
          "output_type": "execute_result",
          "data": {
            "text/plain": [
              "{0, 1, 2, 3, 4, 5, 6, 10}"
            ]
          },
          "metadata": {},
          "execution_count": 38
        }
      ]
    },
    {
      "cell_type": "code",
      "source": [
        "# Intersection O(min(len(set_1), len(set_2))\n",
        "\n",
        "set_1 & set_2"
      ],
      "metadata": {
        "colab": {
          "base_uri": "https://localhost:8080/"
        },
        "id": "lBNLLAKFg3B2",
        "outputId": "70248ed5-5e8e-438a-b2bf-d13544205ae9"
      },
      "execution_count": 39,
      "outputs": [
        {
          "output_type": "execute_result",
          "data": {
            "text/plain": [
              "{1, 2, 3, 5}"
            ]
          },
          "metadata": {},
          "execution_count": 39
        }
      ]
    },
    {
      "cell_type": "code",
      "source": [
        "# Difference O(len(set_1))\n",
        "\n",
        "'''set_1 - set_2'''\n",
        "set_2 - set_1"
      ],
      "metadata": {
        "colab": {
          "base_uri": "https://localhost:8080/"
        },
        "id": "ODsY6foRg5Js",
        "outputId": "56b497ab-2392-458c-9a90-ea0ce5945c50"
      },
      "execution_count": 40,
      "outputs": [
        {
          "output_type": "execute_result",
          "data": {
            "text/plain": [
              "{6, 10}"
            ]
          },
          "metadata": {},
          "execution_count": 40
        }
      ]
    },
    {
      "cell_type": "code",
      "source": [
        "# Symmetric Difference O(len(set_1))\n",
        "\n",
        "set_1 ^ set_2"
      ],
      "metadata": {
        "colab": {
          "base_uri": "https://localhost:8080/"
        },
        "id": "SKZfpUdIhEP-",
        "outputId": "d99d0505-5239-468c-aa21-5aabd6f17229"
      },
      "execution_count": 41,
      "outputs": [
        {
          "output_type": "execute_result",
          "data": {
            "text/plain": [
              "{0, 4, 6, 10}"
            ]
          },
          "metadata": {},
          "execution_count": 41
        }
      ]
    },
    {
      "cell_type": "code",
      "source": [
        "# Subset O(len(set_3))\n",
        "\n",
        "set_3 = {1, 2, 3}\n",
        "set_3.issubset(set_2)"
      ],
      "metadata": {
        "colab": {
          "base_uri": "https://localhost:8080/"
        },
        "id": "ZYTTMXSJhKEr",
        "outputId": "d385a23d-bb25-46f6-b7c9-791db0cbd1c3"
      },
      "execution_count": 42,
      "outputs": [
        {
          "output_type": "execute_result",
          "data": {
            "text/plain": [
              "True"
            ]
          },
          "metadata": {},
          "execution_count": 42
        }
      ]
    },
    {
      "cell_type": "code",
      "source": [
        "# Superset O(len(set_3))\n",
        "\n",
        "set_2.issuperset(set_3)"
      ],
      "metadata": {
        "colab": {
          "base_uri": "https://localhost:8080/"
        },
        "id": "Ob9uyUruhKLr",
        "outputId": "52e28afe-bbba-4c65-fb9c-e79905ec7a7c"
      },
      "execution_count": 43,
      "outputs": [
        {
          "output_type": "execute_result",
          "data": {
            "text/plain": [
              "True"
            ]
          },
          "metadata": {},
          "execution_count": 43
        }
      ]
    },
    {
      "cell_type": "code",
      "source": [
        "# Equal O(min(len(set_1), len(set_2))\n",
        "\n",
        "{1, 2, 3} == {2, 3, 1}"
      ],
      "metadata": {
        "colab": {
          "base_uri": "https://localhost:8080/"
        },
        "id": "z6TcJNddhTks",
        "outputId": "e1c9f776-4704-43cc-bb09-89fa3c05c3f5"
      },
      "execution_count": 44,
      "outputs": [
        {
          "output_type": "execute_result",
          "data": {
            "text/plain": [
              "True"
            ]
          },
          "metadata": {},
          "execution_count": 44
        }
      ]
    },
    {
      "cell_type": "markdown",
      "source": [
        "# **Data Structure Utilities**"
      ],
      "metadata": {
        "id": "BwBwAqJTij8L"
      }
    },
    {
      "cell_type": "markdown",
      "source": [
        "## **Slice**"
      ],
      "metadata": {
        "id": "Pi6khNWNistK"
      }
    },
    {
      "cell_type": "markdown",
      "source": [
        " Slice selects a section of list types (arrays, tuples, NumPy arrays) with its arguments [start:end]:  \n",
        " start is included, end is not. The number of elements in the result is stop - end."
      ],
      "metadata": {
        "id": "vGD9SnXqi8uZ"
      }
    },
    {
      "cell_type": "code",
      "source": [
        "# Slice elements starting at index 3 and ending at index 10\n",
        "\n",
        "seq = 'Hello There'\n",
        "seq[3:10]"
      ],
      "metadata": {
        "colab": {
          "base_uri": "https://localhost:8080/",
          "height": 35
        },
        "id": "Sdl1OYRviomU",
        "outputId": "a2de253f-6908-4cf3-f7fa-23fad37978cd"
      },
      "execution_count": 47,
      "outputs": [
        {
          "output_type": "execute_result",
          "data": {
            "text/plain": [
              "'lo Ther'"
            ],
            "application/vnd.google.colaboratory.intrinsic+json": {
              "type": "string"
            }
          },
          "metadata": {},
          "execution_count": 47
        }
      ]
    },
    {
      "cell_type": "code",
      "source": [
        "# Omit start to default to start of the sequence\n",
        "\n",
        "seq[:5]"
      ],
      "metadata": {
        "colab": {
          "base_uri": "https://localhost:8080/",
          "height": 35
        },
        "id": "KS-4PFmMjThR",
        "outputId": "e8a37cde-e8bf-416c-dcf3-4c9efc746da4"
      },
      "execution_count": 50,
      "outputs": [
        {
          "output_type": "execute_result",
          "data": {
            "text/plain": [
              "'Hello'"
            ],
            "application/vnd.google.colaboratory.intrinsic+json": {
              "type": "string"
            }
          },
          "metadata": {},
          "execution_count": 50
        }
      ]
    },
    {
      "cell_type": "code",
      "source": [
        "# Omit end to default to end of the sequence\n",
        "\n",
        "seq[6:]"
      ],
      "metadata": {
        "colab": {
          "base_uri": "https://localhost:8080/",
          "height": 35
        },
        "id": "1-tifOnHjkFB",
        "outputId": "c60a25b5-ff3d-4247-a5b1-2a228be73094"
      },
      "execution_count": 51,
      "outputs": [
        {
          "output_type": "execute_result",
          "data": {
            "text/plain": [
              "'There'"
            ],
            "application/vnd.google.colaboratory.intrinsic+json": {
              "type": "string"
            }
          },
          "metadata": {},
          "execution_count": 51
        }
      ]
    },
    {
      "cell_type": "code",
      "source": [
        "# Negative indices slice relative to the end\n",
        "\n",
        "seq[-10:-7]"
      ],
      "metadata": {
        "colab": {
          "base_uri": "https://localhost:8080/",
          "height": 35
        },
        "id": "AtkKSqL4jrWp",
        "outputId": "de152939-6a8c-4c80-ffe8-93c8a29a722f"
      },
      "execution_count": 53,
      "outputs": [
        {
          "output_type": "execute_result",
          "data": {
            "text/plain": [
              "'ell'"
            ],
            "application/vnd.google.colaboratory.intrinsic+json": {
              "type": "string"
            }
          },
          "metadata": {},
          "execution_count": 53
        }
      ]
    },
    {
      "cell_type": "markdown",
      "source": [
        "Slice can also take a step [start:end:step].  \n",
        "\n",
        "Get every other element"
      ],
      "metadata": {
        "id": "2zcu1OXFj1PS"
      }
    },
    {
      "cell_type": "code",
      "source": [
        "seq[::2]"
      ],
      "metadata": {
        "colab": {
          "base_uri": "https://localhost:8080/",
          "height": 35
        },
        "id": "-DRGQA7yj3bh",
        "outputId": "8d9d0d40-e907-4e3e-9348-2ceb54d70343"
      },
      "execution_count": 54,
      "outputs": [
        {
          "output_type": "execute_result",
          "data": {
            "text/plain": [
              "'HloTee'"
            ],
            "application/vnd.google.colaboratory.intrinsic+json": {
              "type": "string"
            }
          },
          "metadata": {},
          "execution_count": 54
        }
      ]
    },
    {
      "cell_type": "code",
      "source": [
        "# Passing -1 for the step reverses the list or tuple\n",
        "\n",
        "seq[::-1]"
      ],
      "metadata": {
        "colab": {
          "base_uri": "https://localhost:8080/",
          "height": 35
        },
        "id": "iNgxIbAgj8zh",
        "outputId": "5bd0f93c-0d3d-4c60-e00b-f17cfc8f843f"
      },
      "execution_count": 55,
      "outputs": [
        {
          "output_type": "execute_result",
          "data": {
            "text/plain": [
              "'erehT olleH'"
            ],
            "application/vnd.google.colaboratory.intrinsic+json": {
              "type": "string"
            }
          },
          "metadata": {},
          "execution_count": 55
        }
      ]
    },
    {
      "cell_type": "code",
      "source": [
        "# Assign elements to a slice\n",
        "\n",
        "seq = [1, 1, 2, 3, 5, 8, 13]\n",
        "seq[5:] = ['H', 'a', 'l', 'l']\n",
        "seq"
      ],
      "metadata": {
        "colab": {
          "base_uri": "https://localhost:8080/"
        },
        "id": "cpkmyP8XkBAR",
        "outputId": "8bb30ec0-fb14-4322-dd65-ba8e9fd59243"
      },
      "execution_count": 56,
      "outputs": [
        {
          "output_type": "execute_result",
          "data": {
            "text/plain": [
              "[1, 1, 2, 3, 5, 'H', 'a', 'l', 'l']"
            ]
          },
          "metadata": {},
          "execution_count": 56
        }
      ]
    },
    {
      "cell_type": "markdown",
      "source": [
        "## **Bisect**"
      ],
      "metadata": {
        "id": "Fo_l079IkLeg"
      }
    },
    {
      "cell_type": "code",
      "source": [
        "# The bisect module does not check whether the list is sorted, as this check would be expensive O(n)\n",
        "\n",
        "import bisect\n",
        "\n",
        "# Find the location where an element should be inserted to keep the list sorted\n",
        "\n",
        "seq = [1, 2, 2, 3, 5, 13]\n",
        "bisect.bisect(seq, 8)"
      ],
      "metadata": {
        "colab": {
          "base_uri": "https://localhost:8080/"
        },
        "id": "aNfMFhXlkOxi",
        "outputId": "6753f585-2123-4193-efc3-b5f9909a828e"
      },
      "execution_count": 57,
      "outputs": [
        {
          "output_type": "execute_result",
          "data": {
            "text/plain": [
              "5"
            ]
          },
          "metadata": {},
          "execution_count": 57
        }
      ]
    },
    {
      "cell_type": "code",
      "source": [
        "#Insert an element into a location to keep the list sorted\n",
        "\n",
        "bisect.insort(seq, 8)\n",
        "seq"
      ],
      "metadata": {
        "colab": {
          "base_uri": "https://localhost:8080/"
        },
        "id": "1VB44ykjw_KW",
        "outputId": "96979adb-b828-481e-ea5a-babdaec4010e"
      },
      "execution_count": 58,
      "outputs": [
        {
          "output_type": "execute_result",
          "data": {
            "text/plain": [
              "[1, 2, 2, 3, 5, 8, 13]"
            ]
          },
          "metadata": {},
          "execution_count": 58
        }
      ]
    },
    {
      "cell_type": "markdown",
      "source": [
        "## **Sort**"
      ],
      "metadata": {
        "id": "HEYV5qXDxDRN"
      }
    },
    {
      "cell_type": "code",
      "source": [
        "# Sort in-place O(n log n)\n",
        "\n",
        "seq = [1, 5, 3, 9, 7, 6]\n",
        "seq.sort()\n",
        "seq"
      ],
      "metadata": {
        "colab": {
          "base_uri": "https://localhost:8080/"
        },
        "id": "nmmyqADTxE5r",
        "outputId": "6110a837-8217-47df-8760-f67b42393c74"
      },
      "execution_count": 59,
      "outputs": [
        {
          "output_type": "execute_result",
          "data": {
            "text/plain": [
              "[1, 3, 5, 6, 7, 9]"
            ]
          },
          "metadata": {},
          "execution_count": 59
        }
      ]
    },
    {
      "cell_type": "code",
      "source": [
        "# Sort by the secondary key of str length\n",
        "\n",
        "seq = ['the', 'quick', 'brown', 'fox', 'jumps', 'over']\n",
        "seq.sort(key=len)\n",
        "seq"
      ],
      "metadata": {
        "colab": {
          "base_uri": "https://localhost:8080/"
        },
        "id": "q1JC5AeCxKwV",
        "outputId": "79c1537a-496d-4715-8c65-28864f7efff0"
      },
      "execution_count": 60,
      "outputs": [
        {
          "output_type": "execute_result",
          "data": {
            "text/plain": [
              "['the', 'fox', 'over', 'quick', 'brown', 'jumps']"
            ]
          },
          "metadata": {},
          "execution_count": 60
        }
      ]
    },
    {
      "cell_type": "markdown",
      "source": [
        "## **Sorted**"
      ],
      "metadata": {
        "id": "avBxLmVNxQaL"
      }
    },
    {
      "cell_type": "code",
      "source": [
        "# Return a new sorted list from the elements of a sequence O(n log n)\n",
        "\n",
        "sorted([2, 5, 1, 8, 7, 9])"
      ],
      "metadata": {
        "colab": {
          "base_uri": "https://localhost:8080/"
        },
        "id": "8AAeD8fGxVsD",
        "outputId": "4ea5ecf5-bda6-4eb7-9dab-6240ab9bb9ea"
      },
      "execution_count": 61,
      "outputs": [
        {
          "output_type": "execute_result",
          "data": {
            "text/plain": [
              "[1, 2, 5, 7, 8, 9]"
            ]
          },
          "metadata": {},
          "execution_count": 61
        }
      ]
    },
    {
      "cell_type": "code",
      "source": [
        "sorted('hey ho lets go')"
      ],
      "metadata": {
        "colab": {
          "base_uri": "https://localhost:8080/"
        },
        "id": "2ZDvYfwYxYzk",
        "outputId": "04315cc2-22c6-4b22-87c6-2f45b2c6921f"
      },
      "execution_count": 63,
      "outputs": [
        {
          "output_type": "execute_result",
          "data": {
            "text/plain": [
              "[' ', ' ', ' ', 'e', 'e', 'g', 'h', 'h', 'l', 'o', 'o', 's', 't', 'y']"
            ]
          },
          "metadata": {},
          "execution_count": 63
        }
      ]
    },
    {
      "cell_type": "code",
      "source": [
        "seq = [2, 5, 1, 8, 7, 9, 9, 2, 5, 1, (4, 2), (1, 2), (1, 2)]\n",
        "sorted(set(seq))"
      ],
      "metadata": {
        "id": "-Q6gyHV-xk81"
      },
      "execution_count": null,
      "outputs": []
    },
    {
      "cell_type": "markdown",
      "source": [
        "## **Reversed**"
      ],
      "metadata": {
        "id": "teYG5pV_xvJF"
      }
    },
    {
      "cell_type": "code",
      "source": [
        "# Iterate over the sequence elements in reverse order\n",
        "\n",
        "list(reversed(seq))"
      ],
      "metadata": {
        "colab": {
          "base_uri": "https://localhost:8080/"
        },
        "id": "LyJ_lPzPxwRU",
        "outputId": "831fb432-4787-45f1-9bd2-cfd0431d6195"
      },
      "execution_count": 65,
      "outputs": [
        {
          "output_type": "execute_result",
          "data": {
            "text/plain": [
              "[(1, 2), (1, 2), (4, 2), 1, 5, 2, 9, 9, 7, 8, 1, 5, 2]"
            ]
          },
          "metadata": {},
          "execution_count": 65
        }
      ]
    },
    {
      "cell_type": "markdown",
      "source": [
        "## **Enumerate**"
      ],
      "metadata": {
        "id": "xf9IK5ifx1O2"
      }
    },
    {
      "cell_type": "code",
      "source": [
        "# Get the index of a collection and the value\n",
        "\n",
        "strings = ['foo', 'bar', 'baz']\n",
        "for i, string in enumerate(strings):\n",
        "    print(i, string)"
      ],
      "metadata": {
        "colab": {
          "base_uri": "https://localhost:8080/"
        },
        "id": "s0Sa7zI5x3DM",
        "outputId": "d292c255-691e-48ac-b9f9-e4c10f243350"
      },
      "execution_count": 69,
      "outputs": [
        {
          "output_type": "stream",
          "name": "stdout",
          "text": [
            "0 foo\n",
            "1 bar\n",
            "2 baz\n"
          ]
        }
      ]
    },
    {
      "cell_type": "markdown",
      "source": [
        "## **Zip**"
      ],
      "metadata": {
        "id": "wHggscMjx8OV"
      }
    },
    {
      "cell_type": "code",
      "source": [
        "# Pair up the elements of sequences to create a list of tuples\n",
        "\n",
        "seq_1 = [1, 2, 3]\n",
        "seq_2 = ['foo', 'bar', 'baz']\n",
        "zip(seq_1, seq_2)"
      ],
      "metadata": {
        "colab": {
          "base_uri": "https://localhost:8080/"
        },
        "id": "mwvuvOF5x9S-",
        "outputId": "5359c451-37f9-4064-f62a-fec57fdb3a68"
      },
      "execution_count": 71,
      "outputs": [
        {
          "output_type": "execute_result",
          "data": {
            "text/plain": [
              "<zip at 0x7f684c25bb90>"
            ]
          },
          "metadata": {},
          "execution_count": 71
        }
      ]
    },
    {
      "cell_type": "code",
      "source": [
        "# Zip for simultaneously iterating over multiple sequences combined with enumerate\n",
        "\n",
        "for i, (a, b) in enumerate(zip(seq_1, seq_2)):\n",
        "    print('%d: %s, %s' % (i, a, b))"
      ],
      "metadata": {
        "colab": {
          "base_uri": "https://localhost:8080/"
        },
        "id": "9_dz62OHyC_l",
        "outputId": "5f7cf77e-4550-4388-8d24-96112243c7d4"
      },
      "execution_count": 70,
      "outputs": [
        {
          "output_type": "stream",
          "name": "stdout",
          "text": [
            "0: 1, foo\n",
            "1: 2, bar\n",
            "2: 3, baz\n"
          ]
        }
      ]
    },
    {
      "cell_type": "code",
      "source": [
        "# Unzip a zipped sequence\n",
        "\n",
        "numbers = [(1, 'one'), (2, 'two'), (3, 'three')]\n",
        "a, b = zip(*numbers)\n",
        "a"
      ],
      "metadata": {
        "colab": {
          "base_uri": "https://localhost:8080/"
        },
        "id": "EoJu6JsOyLB8",
        "outputId": "c17b89af-042d-4a73-cce1-13e61d765833"
      },
      "execution_count": 68,
      "outputs": [
        {
          "output_type": "execute_result",
          "data": {
            "text/plain": [
              "(1, 2, 3)"
            ]
          },
          "metadata": {},
          "execution_count": 68
        }
      ]
    },
    {
      "cell_type": "markdown",
      "source": [
        "## **List Comprehensions**"
      ],
      "metadata": {
        "id": "Lzy-RtS6yUdE"
      }
    },
    {
      "cell_type": "code",
      "source": [
        "# List comprehensions concisely form a new list by filtering the elements of a sequence and transforming the elements passing the filter\n",
        "\n",
        "strings = ['foo', 'bar', 'baz', 'f', 'fo', 'b', 'ba']\n",
        "[x.upper() for x in strings if x[0] == 'b']"
      ],
      "metadata": {
        "colab": {
          "base_uri": "https://localhost:8080/"
        },
        "id": "VqL7lNf5yVVk",
        "outputId": "4f795538-e6d3-4a01-f87f-2558adc93d04"
      },
      "execution_count": 72,
      "outputs": [
        {
          "output_type": "execute_result",
          "data": {
            "text/plain": [
              "['BAR', 'BAZ', 'B', 'BA']"
            ]
          },
          "metadata": {},
          "execution_count": 72
        }
      ]
    },
    {
      "cell_type": "code",
      "source": [
        "# Nested List of comprehensions\n",
        "\n",
        "list_of_tuples = [(1, 2, 3), (4, 5, 6), (7, 8, 9)]\n",
        "[x for tup in list_of_tuples for x in tup]"
      ],
      "metadata": {
        "colab": {
          "base_uri": "https://localhost:8080/"
        },
        "id": "f6K--65Dyfom",
        "outputId": "14fd73a9-5256-4adf-d9bf-34b0bce2ece0"
      },
      "execution_count": 73,
      "outputs": [
        {
          "output_type": "execute_result",
          "data": {
            "text/plain": [
              "[1, 2, 3, 4, 5, 6, 7, 8, 9]"
            ]
          },
          "metadata": {},
          "execution_count": 73
        }
      ]
    },
    {
      "cell_type": "markdown",
      "source": [
        "## **Dict Comprehension**"
      ],
      "metadata": {
        "id": "6V14fHpZyxnj"
      }
    },
    {
      "cell_type": "code",
      "source": [
        "{index : val for index, val in enumerate(strings) if val[0] == 'b'}"
      ],
      "metadata": {
        "colab": {
          "base_uri": "https://localhost:8080/"
        },
        "id": "lx6o3BQTyzmM",
        "outputId": "5d5f2fae-60ff-40e3-f891-5da3f82b044c"
      },
      "execution_count": 74,
      "outputs": [
        {
          "output_type": "execute_result",
          "data": {
            "text/plain": [
              "{1: 'bar', 2: 'baz', 5: 'b', 6: 'ba'}"
            ]
          },
          "metadata": {},
          "execution_count": 74
        }
      ]
    },
    {
      "cell_type": "markdown",
      "source": [
        "## **Set Comprehension**"
      ],
      "metadata": {
        "id": "d3ImAcWty38N"
      }
    },
    {
      "cell_type": "code",
      "source": [
        "{len(x) for x in strings if x[0] == 'b'}"
      ],
      "metadata": {
        "colab": {
          "base_uri": "https://localhost:8080/"
        },
        "id": "FTSIMXO_y5zs",
        "outputId": "a4b4c5bc-602b-4be0-c1bd-c5fab5a09c1a"
      },
      "execution_count": 75,
      "outputs": [
        {
          "output_type": "execute_result",
          "data": {
            "text/plain": [
              "{1, 2, 3}"
            ]
          },
          "metadata": {},
          "execution_count": 75
        }
      ]
    }
  ]
}
